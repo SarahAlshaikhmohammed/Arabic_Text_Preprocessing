{
 "cells": [
  {
   "cell_type": "markdown",
   "metadata": {},
   "source": [
    "# Arabic Text Preprocessing"
   ]
  },
  {
   "cell_type": "markdown",
   "metadata": {},
   "source": [
    "### Install Required Libraries"
   ]
  },
  {
   "cell_type": "code",
   "execution_count": null,
   "metadata": {},
   "outputs": [],
   "source": [
    "!pip install pyarabic\n",
    "!pip install qalsadi\n",
    "!pip install camel-tools"
   ]
  },
  {
   "cell_type": "markdown",
   "metadata": {},
   "source": [
    "### Import Libraries"
   ]
  },
  {
   "cell_type": "code",
   "execution_count": null,
   "metadata": {},
   "outputs": [],
   "source": [
    "import pandas as pd\n",
    "import numpy as np\n",
    "import re\n",
    "import nltk\n",
    "import string\n",
    "from nltk.corpus import stopwords\n",
    "from nltk.stem.isri import ISRIStemmer\n",
    "from nltk.tokenize import word_tokenize\n",
    "import qalsadi.lemmatizer as ql\n",
    "from camel_tools.morphology.database import MorphologyDB\n",
    "from camel_tools.morphology.analyzer import Analyzer"
   ]
  },
  {
   "cell_type": "markdown",
   "metadata": {},
   "source": [
    "### Load the Dataset"
   ]
  },
  {
   "cell_type": "code",
   "execution_count": null,
   "metadata": {},
   "outputs": [],
   "source": [
    "# Load the dataset (ensure 'كأس_العالم#.csv' is in the same directory)\n",
    "df = pd.read_csv('كأس_العالم#.csv')\n",
    "df.head()"
   ]
  },
  {
   "cell_type": "markdown",
   "metadata": {},
   "source": [
    "### Data Cleaning"
   ]
  },
  {
   "cell_type": "markdown",
   "metadata": {},
   "source": [
    "Remove Unnecessary Columns"
   ]
  },
  {
   "cell_type": "code",
   "execution_count": null,
   "metadata": {},
   "outputs": [],
   "source": [
    "# Drop unnecessary columns if they exist\n",
    "df.drop(['Unnamed: 0', 'time', 'name'], axis=1, inplace=True, errors='ignore')\n",
    "df.head()"
   ]
  },
  {
   "cell_type": "markdown",
   "metadata": {},
   "source": [
    "Handle Missing Values and Duplicates"
   ]
  },
  {
   "cell_type": "code",
   "execution_count": null,
   "metadata": {},
   "outputs": [],
   "source": [
    "# Remove duplicate rows\n",
    "df.drop_duplicates(inplace=True)\n",
    "\n",
    "# Remove rows with null values\n",
    "df.dropna(inplace=True)\n",
    "\n",
    "# Check for null values\n",
    "df.isnull().sum()"
   ]
  },
  {
   "cell_type": "markdown",
   "metadata": {},
   "source": [
    "### Text Preprocessing"
   ]
  },
  {
   "cell_type": "markdown",
   "metadata": {},
   "source": [
    "Remove Mentions, Links, and Retweets"
   ]
  },
  {
   "cell_type": "code",
   "execution_count": null,
   "metadata": {},
   "outputs": [],
   "source": [
    "# Function to remove mentions\n",
    "def remove_mentions(text):\n",
    "    return re.sub(r'@\\w+', '', text)\n",
    "\n",
    "# Function to remove links\n",
    "def remove_links(text):\n",
    "    return re.sub(r'http[s]?://\\S+|www\\.\\S+|:\\S+\\.co/\\S+', '', text)\n",
    "\n",
    "# Function to remove 'RT : ' from retweets\n",
    "def remove_rt(text):\n",
    "    return re.sub(r'^RT : ', '', text)\n",
    "\n",
    "# Apply the functions\n",
    "df['tweet'] = df['tweet'].apply(remove_mentions)\n",
    "df['tweet'] = df['tweet'].apply(remove_links)\n",
    "df['tweet'] = df['tweet'].apply(remove_rt)\n",
    "df.head()"
   ]
  },
  {
   "cell_type": "markdown",
   "metadata": {},
   "source": [
    "Remove Punctuations and English Text"
   ]
  },
  {
   "cell_type": "code",
   "execution_count": null,
   "metadata": {},
   "outputs": [],
   "source": [
    "# Define Arabic and English punctuations\n",
    "arab_punctuations = '''`÷×؛<>_()*&^%][ـ،/:\"؟.,'{}~¦+|!”…“–ـ'''\n",
    "english_punctuations = string.punctuation\n",
    "punctuations_list = arab_punctuations + english_punctuations\n",
    "\n",
    "# Function to remove punctuations\n",
    "def remove_punctuations(text):\n",
    "    translator = str.maketrans('', '', punctuations_list)\n",
    "    return text.translate(translator)\n",
    "\n",
    "# Function to remove English text and digits\n",
    "def remove_english_text(text):\n",
    "    text = re.sub(r'[a-zA-Z0-9]+', '', text)\n",
    "    text = re.sub(r'\\d+', '', text)\n",
    "    text = ' '.join(text.split())\n",
    "    return text\n",
    "\n",
    "# Apply the functions\n",
    "df['Cleaned_Text'] = df['tweet'].apply(remove_punctuations)\n",
    "df['Cleaned_Text'] = df['Cleaned_Text'].apply(remove_english_text)\n",
    "df.head()"
   ]
  },
  {
   "cell_type": "markdown",
   "metadata": {},
   "source": [
    "Remove Duplicated Characters and Unwanted Words"
   ]
  },
  {
   "cell_type": "code",
   "execution_count": null,
   "metadata": {},
   "outputs": [],
   "source": [
    "# Function to remove duplicated characters\n",
    "def remove_duplicated_chars(text):\n",
    "    return re.sub(r'(.)\\1{2,}', r'\\1', text)\n",
    "\n",
    "# List of unwanted words\n",
    "unwanted_words = ['مونديال', 'ليونيل', 'ميسي', 'كرستيانو', 'رونالدو', 'الدون', 'هاتريك']\n",
    "\n",
    "# Function to remove unwanted words\n",
    "def remove_unwanted_words(text):\n",
    "    pattern = r'\\b(?:' + '|'.join(unwanted_words) + r')\\b'\n",
    "    return re.sub(pattern, '', text)\n",
    "\n",
    "# Apply the functions\n",
    "df['Cleaned_Text'] = df['Cleaned_Text'].apply(remove_duplicated_chars)\n",
    "df['Cleaned_Text'] = df['Cleaned_Text'].apply(remove_unwanted_words)\n",
    "df.head()"
   ]
  },
  {
   "cell_type": "markdown",
   "metadata": {},
   "source": [
    "Remove Emojis"
   ]
  },
  {
   "cell_type": "code",
   "execution_count": null,
   "metadata": {},
   "outputs": [],
   "source": [
    "# Function to remove emojis\n",
    "def remove_emojis(text):\n",
    "    emoji_pattern = re.compile(\"[\"\n",
    "                           u\"\\U0001F600-\\U0001F64F\"  # emoticons\n",
    "                           u\"\\U0001F300-\\U0001F5FF\"  # symbols & pictographs\n",
    "                           u\"\\U0001F680-\\U0001F6FF\"  # transport & map symbols\n",
    "                           u\"\\U0001F1E0-\\U0001F1FF\"  # flags\n",
    "                           u\"\\U00002500-\\U00002BEF\"  # chinese characters\n",
    "                           u\"\\U00002702-\\U000027B0\"\n",
    "                           u\"\\U0001f926-\\U0001f937\"\n",
    "                           u\"\\u200d\"\n",
    "                           u\"\\u2640-\\u2642\"\n",
    "                           u\"\\u2600-\\u2B55\"\n",
    "                           u\"\\u23cf\"\n",
    "                           u\"\\u23e9\"\n",
    "                           u\"\\u231a\"\n",
    "                           u\"\\ufe0f\"                 # dingbats\n",
    "                           u\"\\u3030\"\n",
    "                           \"]+\", flags=re.UNICODE)\n",
    "    return emoji_pattern.sub(r'', text)\n",
    "\n",
    "# Apply the function\n",
    "df['Cleaned_Text'] = df['Cleaned_Text'].apply(remove_emojis)\n",
    "df.head()"
   ]
  },
  {
   "cell_type": "markdown",
   "metadata": {},
   "source": [
    "Normalize Arabic Text"
   ]
  },
  {
   "cell_type": "code",
   "execution_count": null,
   "metadata": {},
   "outputs": [],
   "source": [
    "# Function to normalize Arabic text\n",
    "def normalize_arabic(text):\n",
    "    text = re.sub(r'[\\u064B-\\u0652]', '', text)  # Remove diacritics\n",
    "    text = re.sub(r'[إأآا]', 'ا', text)\n",
    "    text = re.sub(r'[يى]', 'ي', text)\n",
    "    text = re.sub(r'[ؤ]', 'و', text)\n",
    "    text = re.sub(r'[ئ]', 'ي', text)\n",
    "    return text\n",
    "\n",
    "# Apply the function\n",
    "df['Cleaned_Text'] = df['Cleaned_Text'].apply(normalize_arabic)\n",
    "df.head()"
   ]
  },
  {
   "cell_type": "markdown",
   "metadata": {},
   "source": [
    "Tokenization"
   ]
  },
  {
   "cell_type": "code",
   "execution_count": null,
   "metadata": {},
   "outputs": [],
   "source": [
    "# Download NLTK punkt tokenizer\n",
    "nltk.download('punkt')\n",
    "\n",
    "# Function to tokenize Arabic text\n",
    "def tokenize_arabic(text):\n",
    "    tokens = word_tokenize(text)\n",
    "    return tokens\n",
    "\n",
    "# Apply the function\n",
    "df['Cleaned_Text'] = df['Cleaned_Text'].apply(tokenize_arabic)\n",
    "df.head()"
   ]
  },
  {
   "cell_type": "markdown",
   "metadata": {},
   "source": [
    "Remove Arabic Stopwords"
   ]
  },
  {
   "cell_type": "code",
   "execution_count": null,
   "metadata": {},
   "outputs": [],
   "source": [
    "# Download Arabic stopwords\n",
    "nltk.download('stopwords')\n",
    "\n",
    "# Function to remove Arabic stopwords\n",
    "def remove_arabic_stopwords(text):\n",
    "    stop_words = set(stopwords.words('arabic'))\n",
    "    filtered_text = [word for word in text if word not in stop_words]\n",
    "    return filtered_text\n",
    "\n",
    "# Apply the function\n",
    "df['Cleaned_Text'] = df['Cleaned_Text'].apply(remove_arabic_stopwords)\n",
    "df.head()"
   ]
  },
  {
   "cell_type": "markdown",
   "metadata": {},
   "source": [
    "Lemmatization"
   ]
  },
  {
   "cell_type": "code",
   "execution_count": null,
   "metadata": {},
   "outputs": [],
   "source": [
    "# Function to lemmatize Arabic text\n",
    "def lemmatize_arabic(text):\n",
    "    lemmer = ql.Lemmatizer()\n",
    "    lemmatized_words = [lemmer.lemmatize(word) for word in text]\n",
    "    return lemmatized_words\n",
    "\n",
    "# Apply the function\n",
    "df['Cleaned_Text'] = df['Cleaned_Text'].apply(lemmatize_arabic)\n",
    "df.head()"
   ]
  },
  {
   "cell_type": "markdown",
   "metadata": {},
   "source": [
    "Stemming"
   ]
  },
  {
   "cell_type": "code",
   "execution_count": null,
   "metadata": {},
   "outputs": [],
   "source": [
    "# Initialize ISRI Stemmer\n",
    "stemmer = ISRIStemmer()\n",
    "\n",
    "# Function to stem Arabic text\n",
    "def stem_arabic(text):\n",
    "    stemmed_tokens = [stemmer.stem(word) for word in text]\n",
    "    return stemmed_tokens\n",
    "\n",
    "# Apply the function\n",
    "df['Cleaned_Text'] = df['Cleaned_Text'].apply(stem_arabic)\n",
    "df.head()"
   ]
  },
  {
   "cell_type": "markdown",
   "metadata": {},
   "source": [
    "Save Cleaned Data"
   ]
  },
  {
   "cell_type": "code",
   "execution_count": null,
   "metadata": {},
   "outputs": [],
   "source": [
    "# Save the cleaned data to a new CSV file\n",
    "df.to_csv('clean_data.csv', index=False)"
   ]
  }
 ],
 "metadata": {
  "language_info": {
   "name": "python"
  }
 },
 "nbformat": 4,
 "nbformat_minor": 2
}
